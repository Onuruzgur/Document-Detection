{
 "cells": [
  {
   "cell_type": "markdown",
   "metadata": {},
   "source": [
    "# Görüntü İşleme Nesne Tespiti Projesi"
   ]
  },
  {
   "cell_type": "markdown",
   "metadata": {},
   "source": [
    "### Barış Onur Uzgur - 161024065"
   ]
  },
  {
   "cell_type": "code",
   "execution_count": 1,
   "metadata": {},
   "outputs": [],
   "source": [
    "#gerekli kütüphaneler eklendi\n",
    "import numpy as np\n",
    "import matplotlib.pyplot as plt\n",
    "import cv2 as cv"
   ]
  },
  {
   "cell_type": "code",
   "execution_count": 2,
   "metadata": {},
   "outputs": [],
   "source": [
    "#Kontur bulma işleminden sonra kırpıcağımız kontur alanı en buyuk kontur olacaktır.Bu fonksiyonla konturler arasındaki\n",
    "# en büyük alanlı kontoru buluruz.\n",
    "def biggest_contour(contours,image_size):#parametreler bulunan konturler ile goruntunun alanı(örn. 1920*1080=...)\n",
    "    #ihtiyacımız olan boş değişkenler tanımlandı\n",
    "    biggest = None\n",
    "    max_area = 0\n",
    "    biggest_n=0\n",
    "    approx_contour=None\n",
    "    for n,i in enumerate(contours):# burdaki enumerate conturler arasındaki sıralama işlemini yapmaktadır. \n",
    "            area = cv.contourArea(i)#conturlerin alanınını bulduk\n",
    "         \n",
    "            \n",
    "            if area > image_size/10:#kendi belirlediğimiz oranla kontur alanını kıyasladık.\n",
    "                    peri = cv.arcLength(i,True)\n",
    "                    approx = cv.approxPolyDP(i,0.02*peri,True)#hata oranını %2 olarak belirledik.\n",
    "                    if area > max_area and len(approx)==4:\n",
    "                            biggest = approx#gerekli atamalar yapıldı.\n",
    "                            max_area = area\n",
    "                            biggest_n=n\n",
    "                            approx_contour=approx\n",
    "                            \n",
    "                                                   \n",
    "    return biggest_n,approx_contour"
   ]
  },
  {
   "cell_type": "code",
   "execution_count": 3,
   "metadata": {},
   "outputs": [],
   "source": [
    "# bu fonksiyon en büyük konturun koordinatları hepsalayıp bir dikdörtgen olarak çıktı verir.\n",
    "def order_points(pts):#Burdaki paramatre en büyük alanlı konturun köşegenlerinin kordinatlarıdır.\n",
    "    pts=pts.reshape(4,2)#kordinatların şekli (4,1,2) olduğu için yeniden şekillendirildi.\n",
    "    rect = np.zeros((4, 2), dtype = \"float32\")#boş deişken deklare edildi.\n",
    "\n",
    "    s = pts.sum(axis = 1)\n",
    "    rect[0] = pts[np.argmin(s)]\n",
    "    rect[2] = pts[np.argmax(s)]\n",
    "    \n",
    "    diff = np.diff(pts, axis = 1)\n",
    "    rect[1] = pts[np.argmin(diff)]\n",
    "    rect[3] = pts[np.argmax(diff)]\n",
    "\n",
    "  \n",
    "    return rect"
   ]
  },
  {
   "cell_type": "code",
   "execution_count": 4,
   "metadata": {},
   "outputs": [],
   "source": [
    "#bu fonksiyon orjinal görüntüden koordinatları bulunan konturu kırpar.\n",
    "def four_point_transform(image, pts):#Parametreler görüntü ve kontur koordinalarıdır.\n",
    "    \n",
    "    rect = order_points(pts)#Önceden yazılmış fonksiyon çağrıldı.\n",
    "    (tl, tr, br, bl) = rect#dikdörtgen tanımlandı.\n",
    "\n",
    "    #Gereki işlemler yapıldı.\n",
    "    widthA = np.sqrt(((br[0] - bl[0]) ** 2) + ((br[1] - bl[1]) ** 2))\n",
    "    widthB = np.sqrt(((tr[0] - tl[0]) ** 2) + ((tr[1] - tl[1]) ** 2))\n",
    "    maxWidth = max(int(widthA), int(widthB))\n",
    "   \n",
    "\n",
    "    \n",
    "    heightA = np.sqrt(((tr[0] - br[0]) ** 2) + ((tr[1] - br[1]) ** 2))\n",
    "    heightB = np.sqrt(((tl[0] - bl[0]) ** 2) + ((tl[1] - bl[1]) ** 2))\n",
    "    maxHeight = max(int(heightA), int(heightB))\n",
    "\n",
    "    dst = np.array([\n",
    "        [0, 0],\n",
    "        [maxWidth - 1, 0],\n",
    "        [maxWidth - 1, maxHeight - 1],\n",
    "        [0, maxHeight - 1]], dtype = \"float32\")\n",
    "\n",
    "    M = cv.getPerspectiveTransform(rect, dst)\n",
    "    warped = cv.warpPerspective(image, M, (maxWidth, maxHeight))\n",
    "\n",
    "    \n",
    "    return warped"
   ]
  },
  {
   "cell_type": "code",
   "execution_count": 5,
   "metadata": {},
   "outputs": [],
   "source": [
    "def nesnetespiti(img):\n",
    "    kernel = np.ones((5,5))#Morfolojik işlemler için kernel deklare ettik.\n",
    "    image=img.copy()  #görüntüyü kopyaladık.\n",
    "    height, width, channels = image.shape#görüntünün boyutlarını aldık.\n",
    "    img_gray=cv.cvtColor(image,cv.COLOR_BGR2GRAY)#görüntüyü gri seviyeye dönüştürdük.\n",
    "    image_size=img_gray.size\n",
    "    \n",
    "\n",
    "    blur = cv.blur(img_gray,(5,5),0)#Görüntüyü bulanıklaştırdık.\n",
    "    \n",
    "   \n",
    "    th3 = cv.adaptiveThreshold(blur,255,cv.ADAPTIVE_THRESH_GAUSSIAN_C, cv.THRESH_BINARY,11,2)# Adaptive Gaussian Threshold\n",
    "   \n",
    "    \n",
    "    \n",
    "    denoising = cv.fastNlMeansDenoising(th3, 11, 31, 9)#Görüntüde gürültü azaltmaya yarayan fonksiyon.\n",
    "  \n",
    "    \n",
    "    erosion = cv.erode(denoising,kernel,iterations = 1)#erosion işlemini gerçekleştiren fonksiyon.\n",
    "    \n",
    "    \n",
    "    closing = cv.morphologyEx(erosion, cv.MORPH_CLOSE, kernel)#closing işlemini gerçekleştiren fonksiyon.\n",
    "    \n",
    "    \n",
    "    edges = cv.Canny(closing,50,150,apertureSize = 7)# Canny Edge Detection gerçekleştirildi.\n",
    "   \n",
    "   \n",
    "    contours, hierarchy = cv.findContours(edges, cv.RETR_EXTERNAL, cv.CHAIN_APPROX_SIMPLE)#kontürler bulundu.\n",
    "    simplified_contours = []#sadeleştirilmiş konturler için boş bir değişken deklare edildi.\n",
    "\n",
    "    #konturleri sadeleştirmek için bir döngü oluşturduk.\n",
    "    for cnt in contours:\n",
    "        hull = cv.convexHull(cnt)#konturleri dışbükey olarak birleştirme fonksiyonu\n",
    "        simplified_contours.append(cv.approxPolyDP(hull,\n",
    "                                0.001*cv.arcLength(hull,True),True))\n",
    "    simplified_contours = np.array(simplified_contours)\n",
    "    \n",
    "    biggest_n,approx_contour = biggest_contour(simplified_contours,image_size)#Daha önce yazılan en büyük kontur bulma \n",
    "                                                                              #fonksiyonu kullanıldı.\n",
    "\n",
    "    threshold = cv.drawContours(image, simplified_contours ,biggest_n, (0,255,0), 1)#konturler bastırıldı.\n",
    "  \n",
    "    dst = 0\n",
    "    if approx_contour is not None and len(approx_contour)==4:\n",
    "        approx_contour=np.float32(approx_contour)\n",
    "        dst=four_point_transform(threshold,approx_contour)\n",
    "    \n",
    "    cropped = dst\n",
    "    \n",
    "    \n",
    "    \n",
    "    return cropped"
   ]
  },
  {
   "cell_type": "code",
   "execution_count": 8,
   "metadata": {},
   "outputs": [],
   "source": [
    "def iyilestirme(img):#görüntüyü iyileştirmek için bir fonksiyon yazıldı.\n",
    "    filter = np.array([[-1,-1,-1],[-1,9,-1],[-1,-1,-1]])#keskinleştirme maskesi tanımlandı\n",
    "    sharpened = cv.filter2D(img,-1,filter)#Filtreleme işlemi\n",
    "    \n",
    "    return sharpened"
   ]
  },
  {
   "cell_type": "code",
   "execution_count": null,
   "metadata": {},
   "outputs": [],
   "source": [
    "def scanner(img):#iki ana fonksiyon kullanılak tek fonksiyon kullanıldı.\n",
    "    warped = nesnetespiti(img)\n",
    "    sharpened=iyilestirme(warped)\n",
    "    return sharpened"
   ]
  },
  {
   "cell_type": "code",
   "execution_count": 7,
   "metadata": {},
   "outputs": [],
   "source": [
    "#main kod\n",
    "#Bu cellde inputlar alınalarak yazılan fonksiyonlarla işlenip bastırıldı.\n",
    "egitim1  =  cv . imread (\"C:\\Users\\barisonur.uzgur2016\\Desktop\\Görüntü Proje\\Görüntüler\\Eğitim\\egitim1.jpeg\"  )  \n",
    "egitim2  =  cv . imread (\"C:\\Users\\barisonur.uzgur2016\\Desktop\\Görüntü Proje\\Görüntüler\\Eğitim\\egitim2.jpeg\"  )  \n",
    "egitim3  =  cv . imread (\"C:\\Users\\barisonur.uzgur2016\\Desktop\\Görüntü Proje\\Görüntüler\\Eğitim\\egitim3.jpeg\"  )  \n",
    "egitim4  =  cv . imread (\"C:\\Users\\barisonur.uzgur2016\\Desktop\\Görüntü Proje\\Görüntüler\\Eğitim\\egitim4.jpeg\"  )  \n",
    "\n",
    "test1  =  cv . imread (\"C:\\Users\\barisonur.uzgur2016\\Desktop\\Görüntü Proje\\Görüntüler\\Test\\test1.jpeg\"  )  \n",
    "test2  =  cv . imread (\"C:\\Users\\barisonur.uzgur2016\\Desktop\\Görüntü Proje\\Görüntüler\\Test\\test1.jpeg\"  )  \n",
    "test3  =  cv . imread (\"C:\\Users\\barisonur.uzgur2016\\Desktop\\Görüntü Proje\\Görüntüler\\Test\\test1.jpeg\"  )  \n",
    "test4  =  cv . imread (\"C:\\Users\\barisonur.uzgur2016\\Desktop\\Görüntü Proje\\Görüntüler\\Test\\test1.jpeg\" )  \n",
    "\n",
    "egitim1_out = scanner(egitim1)\n",
    "egitim2_out = scanner(egitim2)\n",
    "egitim3_out = scanner(egitim3)\n",
    "egitim4_out = scanner(egitim4)\n",
    "\n",
    "test1_out = scanner(test1)\n",
    "test2_out = scanner(test2)\n",
    "test3_out = scanner(test3)\n",
    "test4_out = scanner(test4)\n",
    "\n",
    "cv.imwrite(\"egitim1_out.jpeg\", egitim1_out)\n",
    "cv.imwrite(\"egitim2_out.jpeg\", egitim2_out)\n",
    "cv.imwrite(\"egitim3_out.jpeg\", egitim3_out)\n",
    "cv.imwrite(\"egitim4_out.jpeg\", egitim4_out)\n",
    "\n",
    "\n",
    "cv.imwrite(\"test1_out.jpeg\", test1_out)\n",
    "cv.imwrite(\"test2_out.jpeg\", test2_out)\n",
    "cv.imwrite(\"test3_out.jpeg\", test3_out)\n",
    "cv.imwrite(\"test4_out.jpeg\", test4_out)\n"
   ]
  },
  {
   "cell_type": "code",
   "execution_count": null,
   "metadata": {},
   "outputs": [],
   "source": []
  },
  {
   "cell_type": "code",
   "execution_count": null,
   "metadata": {},
   "outputs": [],
   "source": []
  }
 ],
 "metadata": {
  "kernelspec": {
   "display_name": "Python 3",
   "language": "python",
   "name": "python3"
  },
  "language_info": {
   "codemirror_mode": {
    "name": "ipython",
    "version": 3
   },
   "file_extension": ".py",
   "mimetype": "text/x-python",
   "name": "python",
   "nbconvert_exporter": "python",
   "pygments_lexer": "ipython3",
   "version": "3.8.3"
  }
 },
 "nbformat": 4,
 "nbformat_minor": 4
}
